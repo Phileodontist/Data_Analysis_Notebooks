{
 "cells": [
  {
   "cell_type": "markdown",
   "metadata": {},
   "source": [
    "# Scraping UCSD's Linguistics Department Webpage"
   ]
  },
  {
   "cell_type": "markdown",
   "metadata": {},
   "source": [
    "## **Introduction**: \n",
    "    \n",
    "   The following code demonstrates the process of extracting information from [UCSD's Linguistics Department webpage](https://linguistics.ucsd.edu/undergrad/courses.html#Spring-2018), obtaining information on course offerings from Fall 2013 to Spring 2018; a few quarters were excluded due to the lack of availability/technical difficulties. \n",
    "    \n",
    "   In the analysis, the reasoning behind the number of classes taught by professors will be explained, along with an explanation to why certain classes are taught more than others.\n",
    "    \n",
    "   Overall, this is meant to look into how classes are planned out, using the most recent years to find a pattern that would match our assumptions. "
   ]
  },
  {
   "cell_type": "markdown",
   "metadata": {},
   "source": [
    "## Retrieving the HTML Code"
   ]
  },
  {
   "cell_type": "code",
   "execution_count": 1,
   "metadata": {
    "collapsed": false
   },
   "outputs": [],
   "source": [
    "# Read in the website url to get the sites html\n",
    "from requests import get\n",
    "\n",
    "url = 'http://ling.ucsd.edu/undergrad/courses.html'\n",
    "\n",
    "response = get(url)"
   ]
  },
  {
   "cell_type": "code",
   "execution_count": 2,
   "metadata": {
    "collapsed": true
   },
   "outputs": [],
   "source": [
    "# Convert the html into a BeautifulSoup object\n",
    "from bs4 import BeautifulSoup\n",
    "\n",
    "soup = BeautifulSoup(response.text, 'html.parser')"
   ]
  },
  {
   "cell_type": "code",
   "execution_count": 3,
   "metadata": {
    "collapsed": false,
    "scrolled": true
   },
   "outputs": [],
   "source": [
    "# Extract all the div(class = drawer) containers from the BeautifulSoup object\n",
    "class_containers = soup.find('div', class_ = 'drawer')"
   ]
  },
  {
   "cell_type": "code",
   "execution_count": 4,
   "metadata": {
    "collapsed": false
   },
   "outputs": [
    {
     "data": {
      "text/plain": [
       "[<a href=\"#\">Fall 2017</a>,\n",
       " <a href=\"#\">Winter 2018</a>,\n",
       " <a href=\"#\">Spring 2018</a>,\n",
       " <a href=\"#\">Spring 2017</a>,\n",
       " <a href=\"#\">Winter 2017</a>,\n",
       " <a href=\"#\">Fall 2016</a>,\n",
       " <a href=\"#\">Spring 2016</a>,\n",
       " <a href=\"#\">Winter 2016</a>,\n",
       " <a href=\"#\">Fall 2015</a>,\n",
       " <a href=\"#\">Fall 2014</a>,\n",
       " <a href=\"#\">Winter 2015</a>,\n",
       " <a href=\"#\">Spring 2015</a>,\n",
       " <a href=\"http://grammar.ucsd.edu/courses/lign105\">Law and Language</a>,\n",
       " <a href=\"#\">Fall 2013</a>,\n",
       " <a href=\"http://grammar.ucsd.edu/courses/lign7/\">Sign Language and its Culture</a>,\n",
       " <a href=\"#\">Winter 2014</a>,\n",
       " <a href=\"#\">Spring 2014</a>,\n",
       " <a href=\"http://grammar.ucsd.edu/courses/lign105\">Law and Language</a>]"
      ]
     },
     "execution_count": 4,
     "metadata": {},
     "output_type": "execute_result"
    }
   ],
   "source": [
    "# Extract all the quarter/years available\n",
    "years = class_containers.find_all('a')\n",
    "years"
   ]
  },
  {
   "cell_type": "markdown",
   "metadata": {},
   "source": [
    "*****\n",
    "# Graphing the Number of Classes each Professor Taught"
   ]
  },
  {
   "cell_type": "markdown",
   "metadata": {},
   "source": [
    "\n",
    "## Cleaning the list of False Positives"
   ]
  },
  {
   "cell_type": "code",
   "execution_count": 5,
   "metadata": {
    "collapsed": false
   },
   "outputs": [
    {
     "data": {
      "text/plain": [
       "[<a href=\"#\">Fall 2017</a>,\n",
       " <a href=\"#\">Winter 2018</a>,\n",
       " <a href=\"#\">Spring 2018</a>,\n",
       " <a href=\"#\">Spring 2017</a>,\n",
       " <a href=\"#\">Winter 2017</a>,\n",
       " <a href=\"#\">Fall 2016</a>,\n",
       " <a href=\"#\">Spring 2016</a>,\n",
       " <a href=\"#\">Winter 2016</a>,\n",
       " <a href=\"#\">Fall 2015</a>,\n",
       " <a href=\"#\">Fall 2014</a>,\n",
       " <a href=\"#\">Winter 2015</a>,\n",
       " <a href=\"#\">Spring 2015</a>,\n",
       " <a href=\"#\">Fall 2013</a>,\n",
       " <a href=\"http://grammar.ucsd.edu/courses/lign7/\">Sign Language and its Culture</a>,\n",
       " <a href=\"#\">Winter 2014</a>,\n",
       " <a href=\"#\">Spring 2014</a>,\n",
       " <a href=\"http://grammar.ucsd.edu/courses/lign105\">Law and Language</a>]"
      ]
     },
     "execution_count": 5,
     "metadata": {},
     "output_type": "execute_result"
    }
   ],
   "source": [
    "# Delete <a href=\"http://grammar.ucsd.edu/courses/lign105\">Law and Language</a>\n",
    "del years[12]\n",
    "years"
   ]
  },
  {
   "cell_type": "code",
   "execution_count": 6,
   "metadata": {
    "collapsed": false
   },
   "outputs": [
    {
     "data": {
      "text/plain": [
       "[<a href=\"#\">Fall 2017</a>,\n",
       " <a href=\"#\">Winter 2018</a>,\n",
       " <a href=\"#\">Spring 2018</a>,\n",
       " <a href=\"#\">Spring 2017</a>,\n",
       " <a href=\"#\">Winter 2017</a>,\n",
       " <a href=\"#\">Fall 2016</a>,\n",
       " <a href=\"#\">Spring 2016</a>,\n",
       " <a href=\"#\">Winter 2016</a>,\n",
       " <a href=\"#\">Fall 2015</a>,\n",
       " <a href=\"#\">Fall 2014</a>,\n",
       " <a href=\"#\">Winter 2015</a>,\n",
       " <a href=\"#\">Spring 2015</a>,\n",
       " <a href=\"#\">Fall 2013</a>,\n",
       " <a href=\"#\">Winter 2014</a>,\n",
       " <a href=\"#\">Spring 2014</a>,\n",
       " <a href=\"http://grammar.ucsd.edu/courses/lign105\">Law and Language</a>]"
      ]
     },
     "execution_count": 6,
     "metadata": {},
     "output_type": "execute_result"
    }
   ],
   "source": [
    "# Delete <a href=\"http://grammar.ucsd.edu/courses/lign7/\">Sign Language and its Culture</a>\n",
    "del years[13]\n",
    "years"
   ]
  },
  {
   "cell_type": "code",
   "execution_count": 7,
   "metadata": {
    "collapsed": false
   },
   "outputs": [
    {
     "data": {
      "text/plain": [
       "[<a href=\"#\">Fall 2017</a>,\n",
       " <a href=\"#\">Winter 2018</a>,\n",
       " <a href=\"#\">Spring 2018</a>,\n",
       " <a href=\"#\">Spring 2017</a>,\n",
       " <a href=\"#\">Winter 2017</a>,\n",
       " <a href=\"#\">Fall 2016</a>,\n",
       " <a href=\"#\">Spring 2016</a>,\n",
       " <a href=\"#\">Winter 2016</a>,\n",
       " <a href=\"#\">Fall 2015</a>,\n",
       " <a href=\"#\">Fall 2014</a>,\n",
       " <a href=\"#\">Winter 2015</a>,\n",
       " <a href=\"#\">Spring 2015</a>,\n",
       " <a href=\"#\">Fall 2013</a>,\n",
       " <a href=\"#\">Winter 2014</a>,\n",
       " <a href=\"#\">Spring 2014</a>]"
      ]
     },
     "execution_count": 7,
     "metadata": {},
     "output_type": "execute_result"
    }
   ],
   "source": [
    "# Delete <a href=\"http://grammar.ucsd.edu/courses/lign105\">Law and Language</a>\n",
    "del years[15]\n",
    "years"
   ]
  },
  {
   "cell_type": "code",
   "execution_count": 8,
   "metadata": {
    "collapsed": false
   },
   "outputs": [],
   "source": [
    "# Delete <a href=\"#\">Fall 2014</a>\n",
    "del years[9]\n"
   ]
  },
  {
   "cell_type": "code",
   "execution_count": 9,
   "metadata": {
    "collapsed": false
   },
   "outputs": [],
   "source": [
    "# Delete <a href=\"#\">Winter 2014</a>\n",
    "del years[12]\n"
   ]
  },
  {
   "cell_type": "code",
   "execution_count": 10,
   "metadata": {
    "collapsed": false
   },
   "outputs": [],
   "source": [
    "# Delete <a href=\"#\">Spring 2014</a>\n",
    "del years[12]"
   ]
  },
  {
   "cell_type": "code",
   "execution_count": 11,
   "metadata": {
    "collapsed": false
   },
   "outputs": [
    {
     "data": {
      "text/plain": [
       "[<a href=\"#\">Fall 2017</a>,\n",
       " <a href=\"#\">Winter 2018</a>,\n",
       " <a href=\"#\">Spring 2018</a>,\n",
       " <a href=\"#\">Spring 2017</a>,\n",
       " <a href=\"#\">Winter 2017</a>,\n",
       " <a href=\"#\">Fall 2016</a>,\n",
       " <a href=\"#\">Spring 2016</a>,\n",
       " <a href=\"#\">Winter 2016</a>,\n",
       " <a href=\"#\">Fall 2015</a>,\n",
       " <a href=\"#\">Winter 2015</a>,\n",
       " <a href=\"#\">Spring 2015</a>,\n",
       " <a href=\"#\">Fall 2013</a>]"
      ]
     },
     "execution_count": 11,
     "metadata": {},
     "output_type": "execute_result"
    }
   ],
   "source": [
    "# Excludes Winter & Spring 2014/ Fall 2014\n",
    "# Winter & Spring 2014 had some format issues\n",
    "# Fall 2014 was left blank\n",
    "years"
   ]
  },
  {
   "cell_type": "markdown",
   "metadata": {},
   "source": [
    "***\n",
    "## Extracting the Course number, Title, and Professor"
   ]
  },
  {
   "cell_type": "code",
   "execution_count": 12,
   "metadata": {
    "collapsed": false,
    "scrolled": true
   },
   "outputs": [],
   "source": [
    "# Courses offered in one quarter\n",
    "course_offerings = class_containers.find_all('article')\n",
    "del course_offerings[9]  # Deleted the quarter that was left blank"
   ]
  },
  {
   "cell_type": "code",
   "execution_count": 13,
   "metadata": {
    "collapsed": false
   },
   "outputs": [
    {
     "data": {
      "text/plain": [
       "[<p>The Linguistics of Invented Languages</p>,\n",
       " <p><strong>Instructor:</strong> G. Goodall</p>,\n",
       " <p>Languages and Cultures of America</p>,\n",
       " <p><strong>Instructor:</strong> G. Caballero</p>,\n",
       " <p>Introduction to the Study of Language</p>,\n",
       " <p><strong>Instructor:</strong> A. Kehler</p>,\n",
       " <p>Phonetics</p>,\n",
       " <p><strong>Instructor:</strong> E. Bakovic</p>,\n",
       " <p>Discourse Analysis: American Sign Language Poetry and Performing Arts</p>,\n",
       " <p><strong>Instructor:</strong> P. Lott</p>,\n",
       " <p>Historical Linguistics</p>,\n",
       " <p><strong>Instructor:</strong> Staff</p>,\n",
       " <p>Indigenours Languages of the Americas</p>,\n",
       " <p><strong>Instructor:</strong> G. Caballero</p>,\n",
       " <p>Evolution of Language</p>,\n",
       " <p><strong>Instructor:</strong> Kluender</p>,\n",
       " <p>Chlid Language Acquisition</p>,\n",
       " <p><strong>Instructor:</strong> R. Mayberry</p>]"
      ]
     },
     "execution_count": 13,
     "metadata": {},
     "output_type": "execute_result"
    }
   ],
   "source": [
    "# The title of the course + professor\n",
    "professors = course_offerings[0].find_all('p')\n",
    "professors # Start at index 12 of the string\n",
    "# Classes are even, profs are odd"
   ]
  },
  {
   "cell_type": "markdown",
   "metadata": {},
   "source": [
    "## Piecing Everything Together"
   ]
  },
  {
   "cell_type": "code",
   "execution_count": 14,
   "metadata": {
    "collapsed": true
   },
   "outputs": [],
   "source": [
    "quarter_year = []  # Stores the quarter + year Ex: Winter 2017\n",
    "professors = []    # List of profs\n",
    "courses = []       # List of lists of courses offering per quarter\n",
    "course_titles = [] # List of course titles \n",
    "\n",
    "counter = 0 # Keeps track of the index: Classes are even, profs are odd\n",
    "num_quarters = [i for i in range(len(years))]\n",
    "\n",
    "for quarter in num_quarters:\n",
    "    \n",
    "    # Adds all the course numbers within a given quarter\n",
    "    courses.append([course_num.text for course_num in (course_offerings[quarter].find_all('h2'))])\n",
    "    \n",
    "    # Add course titles or profs of each class offered\n",
    "    for element in course_offerings[quarter].find_all('p'):\n",
    "        if counter % 2 == 0:\n",
    "            course_titles.append(element.text)\n",
    "            counter += 1\n",
    "        else:\n",
    "            professors.append(element.text[12:])\n",
    "            counter += 1"
   ]
  },
  {
   "cell_type": "code",
   "execution_count": 15,
   "metadata": {
    "collapsed": true
   },
   "outputs": [],
   "source": [
    "# List of the corresponding quarter/year of each course\n",
    "quarter_year = [] # Ex: Fall 2017\n",
    "\n",
    "for quarter in num_quarters:\n",
    "    for num_courses in range(len(courses[quarter])):\n",
    "        quarter_year.append(years[quarter].text )"
   ]
  },
  {
   "cell_type": "code",
   "execution_count": 16,
   "metadata": {
    "collapsed": false,
    "scrolled": true
   },
   "outputs": [],
   "source": [
    "# List of all the course numbers from all the quarters\n",
    "courses_edited = []\n",
    "\n",
    "for quarter in num_quarters: \n",
    "    courses_edited +=  [course_num.text for course_num in (course_offerings[quarter].find_all('h2'))]"
   ]
  },
  {
   "cell_type": "markdown",
   "metadata": {},
   "source": [
    "## Creating the DataFrame to store all the Data"
   ]
  },
  {
   "cell_type": "code",
   "execution_count": 17,
   "metadata": {
    "collapsed": false
   },
   "outputs": [
    {
     "data": {
      "text/html": [
       "<div>\n",
       "<style>\n",
       "    .dataframe thead tr:only-child th {\n",
       "        text-align: right;\n",
       "    }\n",
       "\n",
       "    .dataframe thead th {\n",
       "        text-align: left;\n",
       "    }\n",
       "\n",
       "    .dataframe tbody tr th {\n",
       "        vertical-align: top;\n",
       "    }\n",
       "</style>\n",
       "<table border=\"1\" class=\"dataframe\">\n",
       "  <thead>\n",
       "    <tr style=\"text-align: right;\">\n",
       "      <th></th>\n",
       "      <th>Course Number</th>\n",
       "      <th>Course Title</th>\n",
       "      <th>Professors</th>\n",
       "      <th>Quarter/Year</th>\n",
       "    </tr>\n",
       "  </thead>\n",
       "  <tbody>\n",
       "    <tr>\n",
       "      <th>0</th>\n",
       "      <td>LIGN 5</td>\n",
       "      <td>The Linguistics of Invented Languages</td>\n",
       "      <td>G. Goodall</td>\n",
       "      <td>Fall 2017</td>\n",
       "    </tr>\n",
       "    <tr>\n",
       "      <th>1</th>\n",
       "      <td>LIGN 8</td>\n",
       "      <td>Languages and Cultures of America</td>\n",
       "      <td>G. Caballero</td>\n",
       "      <td>Fall 2017</td>\n",
       "    </tr>\n",
       "    <tr>\n",
       "      <th>2</th>\n",
       "      <td>LIGN 101</td>\n",
       "      <td>Introduction to the Study of Language</td>\n",
       "      <td>A. Kehler</td>\n",
       "      <td>Fall 2017</td>\n",
       "    </tr>\n",
       "    <tr>\n",
       "      <th>3</th>\n",
       "      <td>LIGN 110</td>\n",
       "      <td>Phonetics</td>\n",
       "      <td>E. Bakovic</td>\n",
       "      <td>Fall 2017</td>\n",
       "    </tr>\n",
       "    <tr>\n",
       "      <th>4</th>\n",
       "      <td>LIGN 144</td>\n",
       "      <td>Discourse Analysis: American Sign Language Poe...</td>\n",
       "      <td>P. Lott</td>\n",
       "      <td>Fall 2017</td>\n",
       "    </tr>\n",
       "    <tr>\n",
       "      <th>5</th>\n",
       "      <td>LIGN 150</td>\n",
       "      <td>Historical Linguistics</td>\n",
       "      <td>Staff</td>\n",
       "      <td>Fall 2017</td>\n",
       "    </tr>\n",
       "    <tr>\n",
       "      <th>6</th>\n",
       "      <td>LIGN 152</td>\n",
       "      <td>Indigenours Languages of the Americas</td>\n",
       "      <td>G. Caballero</td>\n",
       "      <td>Fall 2017</td>\n",
       "    </tr>\n",
       "    <tr>\n",
       "      <th>7</th>\n",
       "      <td>LIGN 155</td>\n",
       "      <td>Evolution of Language</td>\n",
       "      <td>Kluender</td>\n",
       "      <td>Fall 2017</td>\n",
       "    </tr>\n",
       "    <tr>\n",
       "      <th>8</th>\n",
       "      <td>LIGN 171</td>\n",
       "      <td>Chlid Language Acquisition</td>\n",
       "      <td>R. Mayberry</td>\n",
       "      <td>Fall 2017</td>\n",
       "    </tr>\n",
       "    <tr>\n",
       "      <th>9</th>\n",
       "      <td>LIGN 7</td>\n",
       "      <td>Sign Language and its Culture</td>\n",
       "      <td>R. Mayberry</td>\n",
       "      <td>Winter 2018</td>\n",
       "    </tr>\n",
       "    <tr>\n",
       "      <th>10</th>\n",
       "      <td>LIGN 8</td>\n",
       "      <td>Languages and Cultures of America</td>\n",
       "      <td>Staff</td>\n",
       "      <td>Winter 2018</td>\n",
       "    </tr>\n",
       "    <tr>\n",
       "      <th>11</th>\n",
       "      <td>LIGN 17</td>\n",
       "      <td>Making and Breaking Codes</td>\n",
       "      <td>A. Kehler</td>\n",
       "      <td>Winter 2018</td>\n",
       "    </tr>\n",
       "    <tr>\n",
       "      <th>12</th>\n",
       "      <td>LIGN 101</td>\n",
       "      <td>Introduction to the Study of Language</td>\n",
       "      <td>I. Caponigro</td>\n",
       "      <td>Winter 2018</td>\n",
       "    </tr>\n",
       "    <tr>\n",
       "      <th>13</th>\n",
       "      <td>LIGN 111</td>\n",
       "      <td>Phonology I</td>\n",
       "      <td>E. Bakovic</td>\n",
       "      <td>Winter 2018</td>\n",
       "    </tr>\n",
       "    <tr>\n",
       "      <th>14</th>\n",
       "      <td>LIGN 112</td>\n",
       "      <td>Speech Sounds and Speech Disorders</td>\n",
       "      <td>M. Garellek</td>\n",
       "      <td>Winter 2018</td>\n",
       "    </tr>\n",
       "    <tr>\n",
       "      <th>15</th>\n",
       "      <td>LIGN 119 / EDS 119</td>\n",
       "      <td>1st and 2nd Language Learning: Childhood throu...</td>\n",
       "      <td>A. Munoz</td>\n",
       "      <td>Winter 2018</td>\n",
       "    </tr>\n",
       "    <tr>\n",
       "      <th>16</th>\n",
       "      <td>LIGN 121</td>\n",
       "      <td>Syntax I</td>\n",
       "      <td>Staff</td>\n",
       "      <td>Winter 2018</td>\n",
       "    </tr>\n",
       "    <tr>\n",
       "      <th>17</th>\n",
       "      <td>LIGN 143</td>\n",
       "      <td>The Structure of Spanish</td>\n",
       "      <td>J. Moore</td>\n",
       "      <td>Winter 2018</td>\n",
       "    </tr>\n",
       "    <tr>\n",
       "      <th>18</th>\n",
       "      <td>LIGN 181</td>\n",
       "      <td>Language Processing in the Brain</td>\n",
       "      <td>R. Kluender</td>\n",
       "      <td>Winter 2018</td>\n",
       "    </tr>\n",
       "    <tr>\n",
       "      <th>19</th>\n",
       "      <td>LIGN 8</td>\n",
       "      <td>Languages and Cultures of America</td>\n",
       "      <td>Staff</td>\n",
       "      <td>Spring 2018</td>\n",
       "    </tr>\n",
       "    <tr>\n",
       "      <th>20</th>\n",
       "      <td>LIGN 101</td>\n",
       "      <td>Introduction to the Study of Language</td>\n",
       "      <td>Staff</td>\n",
       "      <td>Spring 2018</td>\n",
       "    </tr>\n",
       "    <tr>\n",
       "      <th>21</th>\n",
       "      <td>LIGN 120</td>\n",
       "      <td>Morphology</td>\n",
       "      <td>G. Caballero</td>\n",
       "      <td>Spring 2018</td>\n",
       "    </tr>\n",
       "    <tr>\n",
       "      <th>22</th>\n",
       "      <td>LIGN 130</td>\n",
       "      <td>Semantics</td>\n",
       "      <td>I. Caponigro</td>\n",
       "      <td>Spring 2018</td>\n",
       "    </tr>\n",
       "    <tr>\n",
       "      <th>23</th>\n",
       "      <td>LIGN 1XX</td>\n",
       "      <td>TBD</td>\n",
       "      <td>R. Kluender</td>\n",
       "      <td>Spring 2018</td>\n",
       "    </tr>\n",
       "    <tr>\n",
       "      <th>24</th>\n",
       "      <td>LIGN 165</td>\n",
       "      <td>Computational Linguistics</td>\n",
       "      <td>L. Bergen</td>\n",
       "      <td>Spring 2018</td>\n",
       "    </tr>\n",
       "    <tr>\n",
       "      <th>25</th>\n",
       "      <td>LIGN 170</td>\n",
       "      <td>Psycholinguistics</td>\n",
       "      <td>E. Wittenberg</td>\n",
       "      <td>Spring 2018</td>\n",
       "    </tr>\n",
       "    <tr>\n",
       "      <th>26</th>\n",
       "      <td>LIGN 175</td>\n",
       "      <td>Sociolinguistics</td>\n",
       "      <td>E. Bakovic</td>\n",
       "      <td>Spring 2018</td>\n",
       "    </tr>\n",
       "  </tbody>\n",
       "</table>\n",
       "</div>"
      ],
      "text/plain": [
       "         Course Number                                       Course Title  \\\n",
       "0               LIGN 5              The Linguistics of Invented Languages   \n",
       "1               LIGN 8                  Languages and Cultures of America   \n",
       "2             LIGN 101              Introduction to the Study of Language   \n",
       "3             LIGN 110                                          Phonetics   \n",
       "4             LIGN 144  Discourse Analysis: American Sign Language Poe...   \n",
       "5             LIGN 150                             Historical Linguistics   \n",
       "6             LIGN 152              Indigenours Languages of the Americas   \n",
       "7             LIGN 155                              Evolution of Language   \n",
       "8             LIGN 171                         Chlid Language Acquisition   \n",
       "9               LIGN 7                      Sign Language and its Culture   \n",
       "10              LIGN 8                  Languages and Cultures of America   \n",
       "11             LIGN 17                          Making and Breaking Codes   \n",
       "12            LIGN 101              Introduction to the Study of Language   \n",
       "13            LIGN 111                                        Phonology I   \n",
       "14            LIGN 112                 Speech Sounds and Speech Disorders   \n",
       "15  LIGN 119 / EDS 119  1st and 2nd Language Learning: Childhood throu...   \n",
       "16            LIGN 121                                           Syntax I   \n",
       "17            LIGN 143                           The Structure of Spanish   \n",
       "18            LIGN 181                   Language Processing in the Brain   \n",
       "19              LIGN 8                  Languages and Cultures of America   \n",
       "20            LIGN 101              Introduction to the Study of Language   \n",
       "21            LIGN 120                                         Morphology   \n",
       "22            LIGN 130                                          Semantics   \n",
       "23            LIGN 1XX                                                TBD   \n",
       "24            LIGN 165                          Computational Linguistics   \n",
       "25            LIGN 170                                  Psycholinguistics   \n",
       "26            LIGN 175                                   Sociolinguistics   \n",
       "\n",
       "       Professors Quarter/Year  \n",
       "0      G. Goodall    Fall 2017  \n",
       "1    G. Caballero    Fall 2017  \n",
       "2       A. Kehler    Fall 2017  \n",
       "3      E. Bakovic    Fall 2017  \n",
       "4         P. Lott    Fall 2017  \n",
       "5           Staff    Fall 2017  \n",
       "6    G. Caballero    Fall 2017  \n",
       "7        Kluender    Fall 2017  \n",
       "8     R. Mayberry    Fall 2017  \n",
       "9     R. Mayberry  Winter 2018  \n",
       "10          Staff  Winter 2018  \n",
       "11      A. Kehler  Winter 2018  \n",
       "12   I. Caponigro  Winter 2018  \n",
       "13     E. Bakovic  Winter 2018  \n",
       "14    M. Garellek  Winter 2018  \n",
       "15       A. Munoz  Winter 2018  \n",
       "16          Staff  Winter 2018  \n",
       "17       J. Moore  Winter 2018  \n",
       "18    R. Kluender  Winter 2018  \n",
       "19          Staff  Spring 2018  \n",
       "20          Staff  Spring 2018  \n",
       "21   G. Caballero  Spring 2018  \n",
       "22   I. Caponigro  Spring 2018  \n",
       "23    R. Kluender  Spring 2018  \n",
       "24      L. Bergen  Spring 2018  \n",
       "25  E. Wittenberg  Spring 2018  \n",
       "26     E. Bakovic  Spring 2018  "
      ]
     },
     "execution_count": 17,
     "metadata": {},
     "output_type": "execute_result"
    }
   ],
   "source": [
    "# Create a DataFrame to store all the acquired information\n",
    "import pandas as pd\n",
    "\n",
    "course_offerings_final = pd.DataFrame({'Quarter/Year': quarter_year,\n",
    "                        'Course Number': courses_edited,\n",
    "                        'Course Title': course_titles,\n",
    "                        'Professors': professors})\n",
    "course_offerings_final = course_offerings_final[['Course Number', 'Course Title', 'Professors', 'Quarter/Year']]\n",
    "course_offerings_final.head(27)"
   ]
  },
  {
   "cell_type": "markdown",
   "metadata": {},
   "source": [
    "## Retrieving the number of courses taught"
   ]
  },
  {
   "cell_type": "code",
   "execution_count": 18,
   "metadata": {
    "collapsed": false
   },
   "outputs": [
    {
     "data": {
      "text/html": [
       "<div>\n",
       "<style>\n",
       "    .dataframe thead tr:only-child th {\n",
       "        text-align: right;\n",
       "    }\n",
       "\n",
       "    .dataframe thead th {\n",
       "        text-align: left;\n",
       "    }\n",
       "\n",
       "    .dataframe tbody tr th {\n",
       "        vertical-align: top;\n",
       "    }\n",
       "</style>\n",
       "<table border=\"1\" class=\"dataframe\">\n",
       "  <thead>\n",
       "    <tr style=\"text-align: right;\">\n",
       "      <th></th>\n",
       "      <th>Course Number</th>\n",
       "      <th>Course Title</th>\n",
       "      <th>Professors</th>\n",
       "      <th>Quarter/Year</th>\n",
       "    </tr>\n",
       "  </thead>\n",
       "  <tbody>\n",
       "    <tr>\n",
       "      <th>2</th>\n",
       "      <td>LIGN 101</td>\n",
       "      <td>Introduction to the Study of Language</td>\n",
       "      <td>A. Kehler</td>\n",
       "      <td>Fall 2017</td>\n",
       "    </tr>\n",
       "    <tr>\n",
       "      <th>11</th>\n",
       "      <td>LIGN 17</td>\n",
       "      <td>Making and Breaking Codes</td>\n",
       "      <td>A. Kehler</td>\n",
       "      <td>Winter 2018</td>\n",
       "    </tr>\n",
       "    <tr>\n",
       "      <th>37</th>\n",
       "      <td>LIGN 17</td>\n",
       "      <td>Making and Breaking Codes</td>\n",
       "      <td>A. Kehler</td>\n",
       "      <td>Winter 2017</td>\n",
       "    </tr>\n",
       "    <tr>\n",
       "      <th>51</th>\n",
       "      <td>LIGN 160</td>\n",
       "      <td>Pragmatics</td>\n",
       "      <td>A. Kehler</td>\n",
       "      <td>Fall 2016</td>\n",
       "    </tr>\n",
       "    <tr>\n",
       "      <th>62</th>\n",
       "      <td>LIGN 17</td>\n",
       "      <td>Making and Breaking Codes</td>\n",
       "      <td>A. Kehler</td>\n",
       "      <td>Winter 2016</td>\n",
       "    </tr>\n",
       "    <tr>\n",
       "      <th>75</th>\n",
       "      <td>LIGN 160</td>\n",
       "      <td>Pragmatics</td>\n",
       "      <td>A. Kehler</td>\n",
       "      <td>Fall 2015</td>\n",
       "    </tr>\n",
       "    <tr>\n",
       "      <th>79</th>\n",
       "      <td>LIGN 17</td>\n",
       "      <td>Making and Breaking Codes</td>\n",
       "      <td>A. Kehler</td>\n",
       "      <td>Winter 2015</td>\n",
       "    </tr>\n",
       "  </tbody>\n",
       "</table>\n",
       "</div>"
      ],
      "text/plain": [
       "   Course Number                           Course Title Professors  \\\n",
       "2       LIGN 101  Introduction to the Study of Language  A. Kehler   \n",
       "11       LIGN 17              Making and Breaking Codes  A. Kehler   \n",
       "37       LIGN 17              Making and Breaking Codes  A. Kehler   \n",
       "51      LIGN 160                             Pragmatics  A. Kehler   \n",
       "62       LIGN 17              Making and Breaking Codes  A. Kehler   \n",
       "75      LIGN 160                             Pragmatics  A. Kehler   \n",
       "79       LIGN 17              Making and Breaking Codes  A. Kehler   \n",
       "\n",
       "   Quarter/Year  \n",
       "2     Fall 2017  \n",
       "11  Winter 2018  \n",
       "37  Winter 2017  \n",
       "51    Fall 2016  \n",
       "62  Winter 2016  \n",
       "75    Fall 2015  \n",
       "79  Winter 2015  "
      ]
     },
     "execution_count": 18,
     "metadata": {},
     "output_type": "execute_result"
    }
   ],
   "source": [
    "# Example of finding all the courses a particular prof has taught between the range [fall 2013 - Spring 2018]\n",
    "kehler_classes = course_offerings_final[\"Professors\"] == \"A. Kehler\"\n",
    "course_offerings_final[kehler_classes]"
   ]
  },
  {
   "cell_type": "code",
   "execution_count": 19,
   "metadata": {
    "collapsed": false
   },
   "outputs": [],
   "source": [
    "# Retrieve the number of classes a prof has taught within the range\n",
    "classes_taught = [] # List of ints that represent the number of classes taught\n",
    "num_classes = [] # List of classes that a prof has taught\n",
    "profs = [] # All profs who has taught\n",
    "\n",
    "for professor in set(professors):\n",
    "    num_classes = course_offerings_final[\"Professors\"] == professor\n",
    "    classes_taught.append(len(course_offerings_final[num_classes]))\n",
    "    profs.append(professor)"
   ]
  },
  {
   "cell_type": "markdown",
   "metadata": {},
   "source": [
    "## Fixing false positives/errors"
   ]
  },
  {
   "cell_type": "code",
   "execution_count": 20,
   "metadata": {
    "collapsed": false
   },
   "outputs": [],
   "source": [
    "# Delete kluender -> Should have been counted towards R. Kluender\n",
    "del classes_taught[14]"
   ]
  },
  {
   "cell_type": "code",
   "execution_count": 21,
   "metadata": {
    "collapsed": false
   },
   "outputs": [],
   "source": [
    "# Delete kluender\n",
    "del profs[14]"
   ]
  },
  {
   "cell_type": "code",
   "execution_count": 22,
   "metadata": {
    "collapsed": false
   },
   "outputs": [],
   "source": [
    "# Add back to R. Kluender\n",
    "classes_taught[5] = classes_taught[5] + 1"
   ]
  },
  {
   "cell_type": "markdown",
   "metadata": {},
   "source": [
    "## DataFrame for the Number of Classes Taught"
   ]
  },
  {
   "cell_type": "code",
   "execution_count": 23,
   "metadata": {
    "collapsed": false,
    "scrolled": true
   },
   "outputs": [],
   "source": [
    "# Create DataFrame of Professors to number of classes taught\n",
    "course_distribution = pd.DataFrame({'Professors': profs,\n",
    "                                    'Classes_taught': classes_taught })\n",
    "\n",
    "# Reorder columns\n",
    "course_distribution = course_distribution[[\"Professors\", \"Classes_taught\"]]"
   ]
  },
  {
   "cell_type": "markdown",
   "metadata": {},
   "source": [
    "# Plotting out the distribution: Number of Classes Taught "
   ]
  },
  {
   "cell_type": "code",
   "execution_count": 24,
   "metadata": {
    "collapsed": false
   },
   "outputs": [
    {
     "data": {
      "text/plain": [
       "<matplotlib.text.Text at 0x1af2d8f00b8>"
      ]
     },
     "execution_count": 24,
     "metadata": {},
     "output_type": "execute_result"
    },
    {
     "data": {
      "image/png": "[encoded data removed]",
      "text/plain": [
       "<matplotlib.figure.Figure at 0x1af2d1e9a58>"
      ]
     },
     "metadata": {},
     "output_type": "display_data"
    }
   ],
   "source": [
    "import matplotlib.pyplot as plt\n",
    "\n",
    "%matplotlib inline\n",
    "course_distribution.plot.bar(x='Professors',y='Classes_taught',\n",
    "                             figsize = (23,10),\n",
    "                             fontsize=18,\n",
    "                             legend=True)\n",
    "\n",
    "plt.title('Fall 2013 - Spring 2018: Number of classes taught by each Professor', fontsize=20)\n",
    "plt.legend(fontsize=20)\n",
    "plt.xlabel('Professors', fontsize=20)\n",
    "plt.ylabel('Classes Taught', fontsize=20)"
   ]
  },
  {
   "cell_type": "markdown",
   "metadata": {},
   "source": [
    "* **This distribution isn't completely representative of all the classes that each professor taught. Winter & Spring 2014 was excluded due to formatting errors and Fall 2014 was left blank.**\n",
    "\n",
    "\n",
    "\n",
    "* **12 quarters had been used for this dataset**"
   ]
  },
  {
   "cell_type": "markdown",
   "metadata": {},
   "source": [
    "## Analysis on the Number of Classes Taught"
   ]
  },
  {
   "cell_type": "markdown",
   "metadata": {},
   "source": [
    "Base of the graph above, the top 3 professors are the following:\n",
    "1. R. Kluender\n",
    "2. Staff\n",
    "3. E. Bakovic\n",
    "\n",
    "***\n",
    "### R. Kluender\n",
    "Starting with the professor at rank 1, R. Kluender appears to have taught for nearly 12 quarters; the only exception being Fall 2016."
   ]
  },
  {
   "cell_type": "code",
   "execution_count": 25,
   "metadata": {
    "collapsed": true
   },
   "outputs": [],
   "source": [
    "# Changing Kluender into R. Kluender\n",
    "course_offerings_final[\"Professors\"][7] = \"R. Kluender\"   "
   ]
  },
  {
   "cell_type": "code",
   "execution_count": 26,
   "metadata": {
    "collapsed": false
   },
   "outputs": [
    {
     "data": {
      "text/html": [
       "<div>\n",
       "<style>\n",
       "    .dataframe thead tr:only-child th {\n",
       "        text-align: right;\n",
       "    }\n",
       "\n",
       "    .dataframe thead th {\n",
       "        text-align: left;\n",
       "    }\n",
       "\n",
       "    .dataframe tbody tr th {\n",
       "        vertical-align: top;\n",
       "    }\n",
       "</style>\n",
       "<table border=\"1\" class=\"dataframe\">\n",
       "  <thead>\n",
       "    <tr style=\"text-align: right;\">\n",
       "      <th></th>\n",
       "      <th>Course Number</th>\n",
       "      <th>Course Title</th>\n",
       "      <th>Professors</th>\n",
       "      <th>Quarter/Year</th>\n",
       "    </tr>\n",
       "  </thead>\n",
       "  <tbody>\n",
       "    <tr>\n",
       "      <th>7</th>\n",
       "      <td>LIGN 155</td>\n",
       "      <td>Evolution of Language</td>\n",
       "      <td>R. Kluender</td>\n",
       "      <td>Fall 2017</td>\n",
       "    </tr>\n",
       "    <tr>\n",
       "      <th>18</th>\n",
       "      <td>LIGN 181</td>\n",
       "      <td>Language Processing in the Brain</td>\n",
       "      <td>R. Kluender</td>\n",
       "      <td>Winter 2018</td>\n",
       "    </tr>\n",
       "    <tr>\n",
       "      <th>23</th>\n",
       "      <td>LIGN 1XX</td>\n",
       "      <td>TBD</td>\n",
       "      <td>R. Kluender</td>\n",
       "      <td>Spring 2018</td>\n",
       "    </tr>\n",
       "    <tr>\n",
       "      <th>35</th>\n",
       "      <td>LIGN 179</td>\n",
       "      <td>Second Language Acquisition Research</td>\n",
       "      <td>R. Kluender</td>\n",
       "      <td>Spring 2017</td>\n",
       "    </tr>\n",
       "    <tr>\n",
       "      <th>44</th>\n",
       "      <td>LIGN 180</td>\n",
       "      <td>Language Representation in the Brain</td>\n",
       "      <td>R. Kluender</td>\n",
       "      <td>Winter 2017</td>\n",
       "    </tr>\n",
       "    <tr>\n",
       "      <th>53</th>\n",
       "      <td>LIGN 4</td>\n",
       "      <td>Language as a Cognitive System</td>\n",
       "      <td>R. Kluender</td>\n",
       "      <td>Spring 2016</td>\n",
       "    </tr>\n",
       "    <tr>\n",
       "      <th>68</th>\n",
       "      <td>LIGN 155</td>\n",
       "      <td>Evolution of Language</td>\n",
       "      <td>R. Kluender</td>\n",
       "      <td>Winter 2016</td>\n",
       "    </tr>\n",
       "    <tr>\n",
       "      <th>77</th>\n",
       "      <td>LIGN 181</td>\n",
       "      <td>Language Processing in the Brain</td>\n",
       "      <td>R. Kluender</td>\n",
       "      <td>Fall 2015</td>\n",
       "    </tr>\n",
       "    <tr>\n",
       "      <th>78</th>\n",
       "      <td>LIGN 4</td>\n",
       "      <td>Language as a Cognitive System</td>\n",
       "      <td>R. Kluender</td>\n",
       "      <td>Winter 2015</td>\n",
       "    </tr>\n",
       "    <tr>\n",
       "      <th>93</th>\n",
       "      <td>LIGN 179</td>\n",
       "      <td>Second Language Acquisition Research</td>\n",
       "      <td>R. Kluender</td>\n",
       "      <td>Spring 2015</td>\n",
       "    </tr>\n",
       "    <tr>\n",
       "      <th>98</th>\n",
       "      <td>LIGN 155</td>\n",
       "      <td>Evolution of Language</td>\n",
       "      <td>R. Kluender</td>\n",
       "      <td>Fall 2013</td>\n",
       "    </tr>\n",
       "  </tbody>\n",
       "</table>\n",
       "</div>"
      ],
      "text/plain": [
       "   Course Number                          Course Title   Professors  \\\n",
       "7       LIGN 155                 Evolution of Language  R. Kluender   \n",
       "18      LIGN 181      Language Processing in the Brain  R. Kluender   \n",
       "23      LIGN 1XX                                   TBD  R. Kluender   \n",
       "35      LIGN 179  Second Language Acquisition Research  R. Kluender   \n",
       "44      LIGN 180  Language Representation in the Brain  R. Kluender   \n",
       "53        LIGN 4        Language as a Cognitive System  R. Kluender   \n",
       "68      LIGN 155                 Evolution of Language  R. Kluender   \n",
       "77      LIGN 181      Language Processing in the Brain  R. Kluender   \n",
       "78        LIGN 4        Language as a Cognitive System  R. Kluender   \n",
       "93      LIGN 179  Second Language Acquisition Research  R. Kluender   \n",
       "98      LIGN 155                 Evolution of Language  R. Kluender   \n",
       "\n",
       "   Quarter/Year  \n",
       "7     Fall 2017  \n",
       "18  Winter 2018  \n",
       "23  Spring 2018  \n",
       "35  Spring 2017  \n",
       "44  Winter 2017  \n",
       "53  Spring 2016  \n",
       "68  Winter 2016  \n",
       "77    Fall 2015  \n",
       "78  Winter 2015  \n",
       "93  Spring 2015  \n",
       "98    Fall 2013  "
      ]
     },
     "execution_count": 26,
     "metadata": {},
     "output_type": "execute_result"
    }
   ],
   "source": [
    "# Display all the classes that R. Kluender had taught between Fall 2013 - Spring 2018\n",
    "kluender_classes = course_offerings_final[\"Professors\"] == \"R. Kluender\"\n",
    "course_offerings_final[kluender_classes]"
   ]
  },
  {
   "cell_type": "markdown",
   "metadata": {},
   "source": [
    "Base on the courses that R. Kluender had taught over the course of 4 years, it appears that a class based on cognitive linguistics/ language acquisition or the like was offered every quarter. It also appears that all the classes he has taught was offered  at least twice, this in itself reflects how popular the subfield is within the linguistics department. "
   ]
  },
  {
   "cell_type": "markdown",
   "metadata": {},
   "source": [
    "***\n",
    "### Staff"
   ]
  },
  {
   "cell_type": "markdown",
   "metadata": {},
   "source": [
    "The second 'professor' that taught the most was Staff. In most cases, Staff is often a temp professor that is hired for a quarter or more; a quarter can have more than one class taught by the same temp professor or have multiple temp professors at a time. "
   ]
  },
  {
   "cell_type": "code",
   "execution_count": 27,
   "metadata": {
    "collapsed": false
   },
   "outputs": [
    {
     "data": {
      "text/html": [
       "<div>\n",
       "<style>\n",
       "    .dataframe thead tr:only-child th {\n",
       "        text-align: right;\n",
       "    }\n",
       "\n",
       "    .dataframe thead th {\n",
       "        text-align: left;\n",
       "    }\n",
       "\n",
       "    .dataframe tbody tr th {\n",
       "        vertical-align: top;\n",
       "    }\n",
       "</style>\n",
       "<table border=\"1\" class=\"dataframe\">\n",
       "  <thead>\n",
       "    <tr style=\"text-align: right;\">\n",
       "      <th></th>\n",
       "      <th>Course Number</th>\n",
       "      <th>Course Title</th>\n",
       "      <th>Professors</th>\n",
       "      <th>Quarter/Year</th>\n",
       "    </tr>\n",
       "  </thead>\n",
       "  <tbody>\n",
       "    <tr>\n",
       "      <th>5</th>\n",
       "      <td>LIGN 150</td>\n",
       "      <td>Historical Linguistics</td>\n",
       "      <td>Staff</td>\n",
       "      <td>Fall 2017</td>\n",
       "    </tr>\n",
       "    <tr>\n",
       "      <th>10</th>\n",
       "      <td>LIGN 8</td>\n",
       "      <td>Languages and Cultures of America</td>\n",
       "      <td>Staff</td>\n",
       "      <td>Winter 2018</td>\n",
       "    </tr>\n",
       "    <tr>\n",
       "      <th>16</th>\n",
       "      <td>LIGN 121</td>\n",
       "      <td>Syntax I</td>\n",
       "      <td>Staff</td>\n",
       "      <td>Winter 2018</td>\n",
       "    </tr>\n",
       "    <tr>\n",
       "      <th>19</th>\n",
       "      <td>LIGN 8</td>\n",
       "      <td>Languages and Cultures of America</td>\n",
       "      <td>Staff</td>\n",
       "      <td>Spring 2018</td>\n",
       "    </tr>\n",
       "    <tr>\n",
       "      <th>20</th>\n",
       "      <td>LIGN 101</td>\n",
       "      <td>Introduction to the Study of Language</td>\n",
       "      <td>Staff</td>\n",
       "      <td>Spring 2018</td>\n",
       "    </tr>\n",
       "    <tr>\n",
       "      <th>28</th>\n",
       "      <td>LIGN 8</td>\n",
       "      <td>Languages and Cultures of America</td>\n",
       "      <td>Staff</td>\n",
       "      <td>Spring 2017</td>\n",
       "    </tr>\n",
       "    <tr>\n",
       "      <th>33</th>\n",
       "      <td>LIGN 165</td>\n",
       "      <td>Computational Linguistics</td>\n",
       "      <td>Staff</td>\n",
       "      <td>Spring 2017</td>\n",
       "    </tr>\n",
       "    <tr>\n",
       "      <th>58</th>\n",
       "      <td>LIGN 170</td>\n",
       "      <td>Psycholinguistics</td>\n",
       "      <td>Staff</td>\n",
       "      <td>Spring 2016</td>\n",
       "    </tr>\n",
       "    <tr>\n",
       "      <th>63</th>\n",
       "      <td>LIGN 101</td>\n",
       "      <td>Introduction to the Study of Language</td>\n",
       "      <td>Staff</td>\n",
       "      <td>Winter 2016</td>\n",
       "    </tr>\n",
       "    <tr>\n",
       "      <th>95</th>\n",
       "      <td>LIGN 101</td>\n",
       "      <td>Introduction to the Study of Language</td>\n",
       "      <td>Staff</td>\n",
       "      <td>Fall 2013</td>\n",
       "    </tr>\n",
       "  </tbody>\n",
       "</table>\n",
       "</div>"
      ],
      "text/plain": [
       "   Course Number                           Course Title Professors  \\\n",
       "5       LIGN 150                 Historical Linguistics      Staff   \n",
       "10        LIGN 8      Languages and Cultures of America      Staff   \n",
       "16      LIGN 121                               Syntax I      Staff   \n",
       "19        LIGN 8      Languages and Cultures of America      Staff   \n",
       "20      LIGN 101  Introduction to the Study of Language      Staff   \n",
       "28        LIGN 8      Languages and Cultures of America      Staff   \n",
       "33      LIGN 165              Computational Linguistics      Staff   \n",
       "58      LIGN 170                      Psycholinguistics      Staff   \n",
       "63      LIGN 101  Introduction to the Study of Language      Staff   \n",
       "95      LIGN 101  Introduction to the Study of Language      Staff   \n",
       "\n",
       "   Quarter/Year  \n",
       "5     Fall 2017  \n",
       "10  Winter 2018  \n",
       "16  Winter 2018  \n",
       "19  Spring 2018  \n",
       "20  Spring 2018  \n",
       "28  Spring 2017  \n",
       "33  Spring 2017  \n",
       "58  Spring 2016  \n",
       "63  Winter 2016  \n",
       "95    Fall 2013  "
      ]
     },
     "execution_count": 27,
     "metadata": {},
     "output_type": "execute_result"
    }
   ],
   "source": [
    "# Display all the classes that Staff had taught between Fall 2013 - Spring 2018\n",
    "staff_classes = course_offerings_final[\"Professors\"] == \"Staff\"\n",
    "course_offerings_final[staff_classes]"
   ]
  },
  {
   "cell_type": "markdown",
   "metadata": {
    "collapsed": true
   },
   "source": [
    "* **LIGN 101**: As shown in the table, this class appears to be taught by a temp professor more so than other classes. It being an introduction course to Linguistics, we can assume that it is a type of class that requires a good foundation in linguistic theory in all subfields to be taught. It being a broad course, a potential hypothesis to why it was 'outsourced' could be that the main faculty would rather do research, or teach a specific elective rather than teaching an introductary course."
   ]
  },
  {
   "cell_type": "markdown",
   "metadata": {
    "collapsed": true
   },
   "source": [
    "* **LIGN 8**: The explanation of LIGN 8 is similar to that of LIGN 101, but in this case it's a lower division course."
   ]
  },
  {
   "cell_type": "markdown",
   "metadata": {},
   "source": [
    "* **LIGN 165 & LIGN 167**: Prior to the 2016-2017 year, there wasn't a definitive faculty member in the Linguistics Department that taught Computational Linguistics and Psycholinguistics. This required temp professors to fill in, in order for the department to offer these two classes."
   ]
  },
  {
   "cell_type": "markdown",
   "metadata": {},
   "source": [
    "***\n",
    "### E. Bakovic\n"
   ]
  },
  {
   "cell_type": "code",
   "execution_count": 28,
   "metadata": {
    "collapsed": false
   },
   "outputs": [
    {
     "data": {
      "text/html": [
       "<div>\n",
       "<style>\n",
       "    .dataframe thead tr:only-child th {\n",
       "        text-align: right;\n",
       "    }\n",
       "\n",
       "    .dataframe thead th {\n",
       "        text-align: left;\n",
       "    }\n",
       "\n",
       "    .dataframe tbody tr th {\n",
       "        vertical-align: top;\n",
       "    }\n",
       "</style>\n",
       "<table border=\"1\" class=\"dataframe\">\n",
       "  <thead>\n",
       "    <tr style=\"text-align: right;\">\n",
       "      <th></th>\n",
       "      <th>Course Number</th>\n",
       "      <th>Course Title</th>\n",
       "      <th>Professors</th>\n",
       "      <th>Quarter/Year</th>\n",
       "    </tr>\n",
       "  </thead>\n",
       "  <tbody>\n",
       "    <tr>\n",
       "      <th>3</th>\n",
       "      <td>LIGN 110</td>\n",
       "      <td>Phonetics</td>\n",
       "      <td>E. Bakovic</td>\n",
       "      <td>Fall 2017</td>\n",
       "    </tr>\n",
       "    <tr>\n",
       "      <th>13</th>\n",
       "      <td>LIGN 111</td>\n",
       "      <td>Phonology I</td>\n",
       "      <td>E. Bakovic</td>\n",
       "      <td>Winter 2018</td>\n",
       "    </tr>\n",
       "    <tr>\n",
       "      <th>26</th>\n",
       "      <td>LIGN 175</td>\n",
       "      <td>Sociolinguistics</td>\n",
       "      <td>E. Bakovic</td>\n",
       "      <td>Spring 2018</td>\n",
       "    </tr>\n",
       "    <tr>\n",
       "      <th>40</th>\n",
       "      <td>LIGN 111</td>\n",
       "      <td>Phonology I</td>\n",
       "      <td>E. Bakovic</td>\n",
       "      <td>Winter 2017</td>\n",
       "    </tr>\n",
       "    <tr>\n",
       "      <th>49</th>\n",
       "      <td>LIGN 143</td>\n",
       "      <td>The Structure of Spanish</td>\n",
       "      <td>E. Bakovic</td>\n",
       "      <td>Fall 2016</td>\n",
       "    </tr>\n",
       "    <tr>\n",
       "      <th>64</th>\n",
       "      <td>LIGN 111</td>\n",
       "      <td>Phonology I</td>\n",
       "      <td>E. Bakovic</td>\n",
       "      <td>Winter 2016</td>\n",
       "    </tr>\n",
       "    <tr>\n",
       "      <th>71</th>\n",
       "      <td>LIGN 101</td>\n",
       "      <td>Introduction to the Study of Language</td>\n",
       "      <td>E. Bakovic</td>\n",
       "      <td>Fall 2015</td>\n",
       "    </tr>\n",
       "    <tr>\n",
       "      <th>81</th>\n",
       "      <td>LIGN 111</td>\n",
       "      <td>Phonology I</td>\n",
       "      <td>E. Bakovic</td>\n",
       "      <td>Winter 2015</td>\n",
       "    </tr>\n",
       "    <tr>\n",
       "      <th>99</th>\n",
       "      <td>LIGN 175</td>\n",
       "      <td>Sociolinguistics</td>\n",
       "      <td>E. Bakovic</td>\n",
       "      <td>Fall 2013</td>\n",
       "    </tr>\n",
       "  </tbody>\n",
       "</table>\n",
       "</div>"
      ],
      "text/plain": [
       "   Course Number                           Course Title  Professors  \\\n",
       "3       LIGN 110                              Phonetics  E. Bakovic   \n",
       "13      LIGN 111                            Phonology I  E. Bakovic   \n",
       "26      LIGN 175                       Sociolinguistics  E. Bakovic   \n",
       "40      LIGN 111                            Phonology I  E. Bakovic   \n",
       "49      LIGN 143               The Structure of Spanish  E. Bakovic   \n",
       "64      LIGN 111                            Phonology I  E. Bakovic   \n",
       "71      LIGN 101  Introduction to the Study of Language  E. Bakovic   \n",
       "81      LIGN 111                            Phonology I  E. Bakovic   \n",
       "99      LIGN 175                       Sociolinguistics  E. Bakovic   \n",
       "\n",
       "   Quarter/Year  \n",
       "3     Fall 2017  \n",
       "13  Winter 2018  \n",
       "26  Spring 2018  \n",
       "40  Winter 2017  \n",
       "49    Fall 2016  \n",
       "64  Winter 2016  \n",
       "71    Fall 2015  \n",
       "81  Winter 2015  \n",
       "99    Fall 2013  "
      ]
     },
     "execution_count": 28,
     "metadata": {},
     "output_type": "execute_result"
    }
   ],
   "source": [
    "# Display all the classes that E. Bakovic had taught between Fall 2013 - Spring 2018\n",
    "bakovic_classes = course_offerings_final[\"Professors\"] == \"E. Bakovic\"\n",
    "course_offerings_final[bakovic_classes]"
   ]
  },
  {
   "cell_type": "markdown",
   "metadata": {},
   "source": [
    "Being the third professor to teach the most classes within Fall 2013 - Spring 2018, it is most likely the case due to the fact that he regularly teaches a core class, Phonology, as well as teach other classes such as sociolinguistics, phonetics and even LIGN 101. This comes to show that he teaches a few more classes than those who strictly teach one core class + one elective (offered every other year)."
   ]
  },
  {
   "cell_type": "markdown",
   "metadata": {},
   "source": [
    "***\n",
    "# Plotting out the distribution: Number of Times a Class was Taught"
   ]
  },
  {
   "cell_type": "code",
   "execution_count": 29,
   "metadata": {
    "collapsed": true
   },
   "outputs": [],
   "source": [
    "# List of all the courses that are taught within the range\n",
    "all_courses = sorted(list(set(courses_edited)))"
   ]
  },
  {
   "cell_type": "code",
   "execution_count": 30,
   "metadata": {
    "collapsed": false
   },
   "outputs": [
    {
     "data": {
      "text/html": [
       "<div>\n",
       "<style>\n",
       "    .dataframe thead tr:only-child th {\n",
       "        text-align: right;\n",
       "    }\n",
       "\n",
       "    .dataframe thead th {\n",
       "        text-align: left;\n",
       "    }\n",
       "\n",
       "    .dataframe tbody tr th {\n",
       "        vertical-align: top;\n",
       "    }\n",
       "</style>\n",
       "<table border=\"1\" class=\"dataframe\">\n",
       "  <thead>\n",
       "    <tr style=\"text-align: right;\">\n",
       "      <th></th>\n",
       "      <th>Course Number</th>\n",
       "      <th>Course Title</th>\n",
       "      <th>Professors</th>\n",
       "      <th>Quarter/Year</th>\n",
       "    </tr>\n",
       "  </thead>\n",
       "  <tbody>\n",
       "    <tr>\n",
       "      <th>2</th>\n",
       "      <td>LIGN 101</td>\n",
       "      <td>Introduction to the Study of Language</td>\n",
       "      <td>A. Kehler</td>\n",
       "      <td>Fall 2017</td>\n",
       "    </tr>\n",
       "    <tr>\n",
       "      <th>12</th>\n",
       "      <td>LIGN 101</td>\n",
       "      <td>Introduction to the Study of Language</td>\n",
       "      <td>I. Caponigro</td>\n",
       "      <td>Winter 2018</td>\n",
       "    </tr>\n",
       "    <tr>\n",
       "      <th>20</th>\n",
       "      <td>LIGN 101</td>\n",
       "      <td>Introduction to the Study of Language</td>\n",
       "      <td>Staff</td>\n",
       "      <td>Spring 2018</td>\n",
       "    </tr>\n",
       "    <tr>\n",
       "      <th>29</th>\n",
       "      <td>LIGN 101</td>\n",
       "      <td>Introduction to the Study of Language</td>\n",
       "      <td>E. Wittenberg</td>\n",
       "      <td>Spring 2017</td>\n",
       "    </tr>\n",
       "    <tr>\n",
       "      <th>38</th>\n",
       "      <td>LIGN 101</td>\n",
       "      <td>Introduction to the Study of Language</td>\n",
       "      <td>R. Lepic</td>\n",
       "      <td>Winter 2017</td>\n",
       "    </tr>\n",
       "    <tr>\n",
       "      <th>46</th>\n",
       "      <td>LIGN 101</td>\n",
       "      <td>Introduction to the Study of Language</td>\n",
       "      <td>R. Lepic</td>\n",
       "      <td>Fall 2016</td>\n",
       "    </tr>\n",
       "    <tr>\n",
       "      <th>63</th>\n",
       "      <td>LIGN 101</td>\n",
       "      <td>Introduction to the Study of Language</td>\n",
       "      <td>Staff</td>\n",
       "      <td>Winter 2016</td>\n",
       "    </tr>\n",
       "    <tr>\n",
       "      <th>71</th>\n",
       "      <td>LIGN 101</td>\n",
       "      <td>Introduction to the Study of Language</td>\n",
       "      <td>E. Bakovic</td>\n",
       "      <td>Fall 2015</td>\n",
       "    </tr>\n",
       "    <tr>\n",
       "      <th>80</th>\n",
       "      <td>LIGN 101</td>\n",
       "      <td>Introduction to the Study of Language</td>\n",
       "      <td>R. Baglini</td>\n",
       "      <td>Winter 2015</td>\n",
       "    </tr>\n",
       "    <tr>\n",
       "      <th>95</th>\n",
       "      <td>LIGN 101</td>\n",
       "      <td>Introduction to the Study of Language</td>\n",
       "      <td>Staff</td>\n",
       "      <td>Fall 2013</td>\n",
       "    </tr>\n",
       "  </tbody>\n",
       "</table>\n",
       "</div>"
      ],
      "text/plain": [
       "   Course Number                           Course Title     Professors  \\\n",
       "2       LIGN 101  Introduction to the Study of Language      A. Kehler   \n",
       "12      LIGN 101  Introduction to the Study of Language   I. Caponigro   \n",
       "20      LIGN 101  Introduction to the Study of Language          Staff   \n",
       "29      LIGN 101  Introduction to the Study of Language  E. Wittenberg   \n",
       "38      LIGN 101  Introduction to the Study of Language       R. Lepic   \n",
       "46      LIGN 101  Introduction to the Study of Language       R. Lepic   \n",
       "63      LIGN 101  Introduction to the Study of Language          Staff   \n",
       "71      LIGN 101  Introduction to the Study of Language     E. Bakovic   \n",
       "80      LIGN 101  Introduction to the Study of Language     R. Baglini   \n",
       "95      LIGN 101  Introduction to the Study of Language          Staff   \n",
       "\n",
       "   Quarter/Year  \n",
       "2     Fall 2017  \n",
       "12  Winter 2018  \n",
       "20  Spring 2018  \n",
       "29  Spring 2017  \n",
       "38  Winter 2017  \n",
       "46    Fall 2016  \n",
       "63  Winter 2016  \n",
       "71    Fall 2015  \n",
       "80  Winter 2015  \n",
       "95    Fall 2013  "
      ]
     },
     "execution_count": 30,
     "metadata": {},
     "output_type": "execute_result"
    }
   ],
   "source": [
    "# Example of getting the number of times a class was taught\n",
    "num_class_taught = course_offerings_final[\"Course Number\"] == 'LIGN 101'\n",
    "course_offerings_final[num_class_taught]"
   ]
  },
  {
   "cell_type": "code",
   "execution_count": 31,
   "metadata": {
    "collapsed": false,
    "scrolled": true
   },
   "outputs": [],
   "source": [
    "# List of the number of times a course was taught\n",
    "num_class_taught = []\n",
    "\n",
    "for course in all_courses:\n",
    "    course_total_taught = course_offerings_final[\"Course Number\"] == course\n",
    "    num_class_taught.append(len(course_offerings_final[course_total_taught]))"
   ]
  },
  {
   "cell_type": "code",
   "execution_count": 32,
   "metadata": {
    "collapsed": false
   },
   "outputs": [
    {
     "data": {
      "text/html": [
       "<div>\n",
       "<style>\n",
       "    .dataframe thead tr:only-child th {\n",
       "        text-align: right;\n",
       "    }\n",
       "\n",
       "    .dataframe thead th {\n",
       "        text-align: left;\n",
       "    }\n",
       "\n",
       "    .dataframe tbody tr th {\n",
       "        vertical-align: top;\n",
       "    }\n",
       "</style>\n",
       "<table border=\"1\" class=\"dataframe\">\n",
       "  <thead>\n",
       "    <tr style=\"text-align: right;\">\n",
       "      <th></th>\n",
       "      <th>Course</th>\n",
       "      <th>Times_Taught</th>\n",
       "    </tr>\n",
       "  </thead>\n",
       "  <tbody>\n",
       "    <tr>\n",
       "      <th>0</th>\n",
       "      <td>LIGN 101</td>\n",
       "      <td>10</td>\n",
       "    </tr>\n",
       "    <tr>\n",
       "      <th>1</th>\n",
       "      <td>LIGN 105</td>\n",
       "      <td>2</td>\n",
       "    </tr>\n",
       "    <tr>\n",
       "      <th>2</th>\n",
       "      <td>LIGN 108</td>\n",
       "      <td>1</td>\n",
       "    </tr>\n",
       "    <tr>\n",
       "      <th>3</th>\n",
       "      <td>LIGN 110</td>\n",
       "      <td>4</td>\n",
       "    </tr>\n",
       "    <tr>\n",
       "      <th>4</th>\n",
       "      <td>LIGN 111</td>\n",
       "      <td>4</td>\n",
       "    </tr>\n",
       "    <tr>\n",
       "      <th>5</th>\n",
       "      <td>LIGN 112</td>\n",
       "      <td>3</td>\n",
       "    </tr>\n",
       "    <tr>\n",
       "      <th>6</th>\n",
       "      <td>LIGN 118</td>\n",
       "      <td>1</td>\n",
       "    </tr>\n",
       "    <tr>\n",
       "      <th>7</th>\n",
       "      <td>LIGN 119 / EDS 119</td>\n",
       "      <td>4</td>\n",
       "    </tr>\n",
       "    <tr>\n",
       "      <th>8</th>\n",
       "      <td>LIGN 120</td>\n",
       "      <td>4</td>\n",
       "    </tr>\n",
       "    <tr>\n",
       "      <th>9</th>\n",
       "      <td>LIGN 121</td>\n",
       "      <td>4</td>\n",
       "    </tr>\n",
       "  </tbody>\n",
       "</table>\n",
       "</div>"
      ],
      "text/plain": [
       "               Course  Times_Taught\n",
       "0            LIGN 101            10\n",
       "1            LIGN 105             2\n",
       "2            LIGN 108             1\n",
       "3            LIGN 110             4\n",
       "4            LIGN 111             4\n",
       "5            LIGN 112             3\n",
       "6            LIGN 118             1\n",
       "7  LIGN 119 / EDS 119             4\n",
       "8            LIGN 120             4\n",
       "9            LIGN 121             4"
      ]
     },
     "execution_count": 32,
     "metadata": {},
     "output_type": "execute_result"
    }
   ],
   "source": [
    "# Table of each class and the number of times it was taught\n",
    "num_taught = pd.DataFrame({'Course': all_courses,\n",
    "                           'Times_Taught': num_class_taught})\n",
    "num_taught.head(10)"
   ]
  },
  {
   "cell_type": "code",
   "execution_count": 33,
   "metadata": {
    "collapsed": false
   },
   "outputs": [
    {
     "data": {
      "text/plain": [
       "<matplotlib.text.Text at 0x1af2deb0128>"
      ]
     },
     "execution_count": 33,
     "metadata": {},
     "output_type": "execute_result"
    },
    {
     "data": {
      "image/png": "[encoded data removed]",
      "text/plain": [
       "<matplotlib.figure.Figure at 0x1af2d983630>"
      ]
     },
     "metadata": {},
     "output_type": "display_data"
    }
   ],
   "source": [
    "# Plotting out the distribution of the number of times a class was taught\n",
    "num_graph = num_taught.plot.bar(x='Course',y='Times_Taught', \n",
    "                                figsize=(23,10),\n",
    "                                legend=True,\n",
    "                                fontsize=20)\n",
    "\n",
    "plt.legend(fontsize=20)\n",
    "plt.xlabel('Courses', fontsize=20)\n",
    "plt.ylabel('Number of Times Taught', fontsize=20)\n",
    "plt.title('Fall 2013 - Spring 2018: Number of Times a Class was Taught', fontsize=20)"
   ]
  },
  {
   "cell_type": "markdown",
   "metadata": {},
   "source": [
    "* **This distribution isn't completely representative of the number of times a class was taught. Winter & Spring 2014 was excluded due to formatting errors and Fall 2014 was left blank.**"
   ]
  },
  {
   "cell_type": "markdown",
   "metadata": {},
   "source": [
    "## Analysis on the Number of Times a Class was Taught"
   ]
  },
  {
   "cell_type": "markdown",
   "metadata": {
    "collapsed": true
   },
   "source": [
    "* **LIGN 8**: Since this class is a lower division that counts as a GE, it being taught more than once in a given school year is more common that any other course besides LIGN 101."
   ]
  },
  {
   "cell_type": "markdown",
   "metadata": {
    "collapsed": true
   },
   "source": [
    "* **LIGN 101**: This being an prerequisite for most LIGN Courses as well as a GE course, it'll be common for it to be offered more than once in a school year."
   ]
  },
  {
   "cell_type": "markdown",
   "metadata": {
    "collapsed": true
   },
   "source": [
    "* **LIGN 110, 111, 120, 121, 130**: (Phonetics, Phonology, Morphology, Syntax, Sematics) All of these courses are core classes, which explains why all of them have been taught 4 times within the past four years. *Each core class is teached once every year."
   ]
  }
 ],
 "metadata": {
  "kernelspec": {
   "display_name": "Python 3",
   "language": "python",
   "name": "python3"
  },
  "language_info": {
   "codemirror_mode": {
    "name": "ipython",
    "version": 3
   },
   "file_extension": ".py",
   "mimetype": "text/x-python",
   "name": "python",
   "nbconvert_exporter": "python",
   "pygments_lexer": "ipython3",
   "version": "3.6.0"
  }
 },
 "nbformat": 4,
 "nbformat_minor": 2
}
